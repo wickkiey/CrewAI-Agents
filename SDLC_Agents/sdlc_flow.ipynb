{
 "cells": [
  {
   "cell_type": "code",
   "execution_count": 1,
   "metadata": {},
   "outputs": [],
   "source": [
    "from crewai import Agent, Task, Crew, Process, LLM\n",
    "from crewai_tools import ScrapeWebsiteTool\n"
   ]
  },
  {
   "cell_type": "code",
   "execution_count": 4,
   "metadata": {},
   "outputs": [],
   "source": [
    "architect = Agent(\n",
    "    role='Lead Architect.',\n",
    "    goal=\"Process Client problem statements and requirements to create a solution design.\",\n",
    "    backstory=\"You are a Lead Architect at a software development company. Your team is responsible for designing software solutions for clients. You have been assigned a new project to design a software solution for a client. The client has provided you with a problem statement and requirements. You need to process the problem statement and requirements to create a solution design.\",\n",
    "    llm=LLM(model=\"ollama/llama3\", base_url=\"http://localhost:11434\")\n",
    ")\n",
    "\n",
    "mobile_application_lead = Agent(\n",
    "    role='Mobile Application Lead.',\n",
    "    goal=\"Create list of modules and features for the mobile application based on the solution design provided by the architecture team.\",\n",
    "    backstory=\"You are a Mobile Application Lead at a software development company. You are responsible for developing mobile applications based on solution designs provided by the architecture team. You have been assigned a new project to develop a mobile application based on a solution design provided by the architecture team.\",\n",
    "    llm=LLM(model=\"ollama/llama3\", base_url=\"http://localhost:11434\")\n",
    ")\n",
    "\n",
    "web_application_lead = Agent(\n",
    "    role='Web Application Lead.',\n",
    "    goal=\"Create list of modules and features for the web application based on the solution design provided by the architecture team.\",\n",
    "    backstory=\"You are a Web Application Lead at a software development company. You are responsible for developing web applications based on solution designs provided by the architecture team. You have been assigned a new project to develop a web application based on a solution design provided by the architecture team.\",\n",
    "    llm=LLM(model=\"ollama/llama3\", base_url=\"http://localhost:11434\")\n",
    ")\n",
    "\n",
    "ai_ml_lead = Agent(\n",
    "    role='AI/ML Lead.',\n",
    "    goal=\"Create list of modules and features for the AI/ML components based on the solution design provided by the architecture team.\",\n",
    "    backstory=\"You are an AI/ML Lead at a software development company. You are responsible for developing AI/ML components based on solution designs provided by the architecture team. You have been assigned a new project to develop AI/ML components based on a solution design provided by the architecture team.\",\n",
    "    llm=LLM(model=\"ollama/llama3\", base_url=\"http://localhost:11434\")\n",
    ")\n",
    "\n",
    "devops_lead = Agent(\n",
    "    role='DevOps Lead.',\n",
    "    goal=\"Create list of modules and features for the DevOps components based on the solution design provided by the architecture team.\",\n",
    "    backstory=\"You are a DevOps Lead at a software development company. You are responsible for developing DevOps components based on solution designs provided by the architecture team. You have been assigned a new project to develop DevOps components based on a solution design provided by the architecture team.\",\n",
    "    llm=LLM(model=\"ollama/llama3\", base_url=\"http://localhost:11434\")\n",
    ")\n",
    "\n",
    "testing_lead = Agent(\n",
    "    role='Testing Lead.',\n",
    "    goal=\"Create list of test cases based on the solution design provided by the architecture team.\",\n",
    "    backstory=\"You are a Testing Lead at a software development company. You are responsible for creating test cases based on solution designs provided by the architecture team. You have been assigned a new project to create test cases based on a solution design provided by the architecture team.\",\n",
    "    llm=LLM(model=\"ollama/llama3\", base_url=\"http://localhost:11434\")\n",
    ")\n",
    "\n",
    "\n"
   ]
  },
  {
   "cell_type": "code",
   "execution_count": 5,
   "metadata": {},
   "outputs": [],
   "source": [
    "task = Task(\n",
    "    description=\"Conduct a comprehensive Study and ask questions on Azure AI modules.\",\n",
    "    expected_output=\"AI 102 Exam questions on Azure AI modules.\",\n",
    "    agent=agent,\n",
    "    # tools=[search_tool],\n",
    "    async_execution=True\n",
    ")\n"
   ]
  },
  {
   "cell_type": "code",
   "execution_count": 6,
   "metadata": {},
   "outputs": [],
   "source": [
    "crew = Crew(\n",
    "    name=\"AI 102\",\n",
    "    members=[agent],\n",
    "    tasks=[task]\n",
    ")"
   ]
  },
  {
   "cell_type": "code",
   "execution_count": 7,
   "metadata": {},
   "outputs": [
    {
     "data": {
      "text/plain": [
       "CrewOutput(raw=\"**Azure AI Module Questions**\\n\\n1. What is Azure Cognitive Services?\\nYour answer should include the description of Azure Cognitive Services, its features, and benefits.\\n\\n2. How does Azure Machine Learning (AML) differ from traditional machine learning approaches?\\nYour answer should discuss the key differences between AML and traditional machine learning, including automation, scalability, and ease of use.\\n\\n3. What is Azure Form Recognizer?\\nProvide a detailed explanation of Azure Form Recognizer, its capabilities, and typical use cases.\\n\\n4. How does Azure Computer Vision enhance image analysis tasks?\\nDescribe the features and benefits of Azure Computer Vision for image analysis, including object detection, facial recognition, and image classification.\\n\\n5. What are some common applications of Azure Bot Service?\\nYour answer should highlight various industries or scenarios where Azure Bot Service can be used, such as customer service chatbots, virtual assistants, and more.\\n\\n6. How does Azure Natural Language Processing (NLP) improve text analysis capabilities?\\nDiscuss the features and benefits of Azure NLP for natural language processing, including sentiment analysis, entity recognition, and language translation.\\n\\n7. What is Azure Search, and how can it enhance search functionality in applications?\\nExplain the concept of Azure Search, its key features, and typical use cases, such as improving search results, filtering data, and more.\\n\\n8. How does Azure Text Analytics support natural language understanding (NLU) tasks?\\nDescribe the capabilities and benefits of Azure Text Analytics for NLU tasks, including sentiment analysis, named entity recognition, and text classification.\\n\\n9. What is Azure Speech Services, and how can it enhance speech-to-text functionality in applications?\\nExplain the features and benefits of Azure Speech Services for speech-to-text processing, including language support, audio formatting, and more.\\n\\n10. How does Azure Decision Framework (ADF) simplify decision-making processes?\\nDescribe the concept of ADF, its key features, and typical use cases, such as building decision-making models, predicting outcomes, and more.\\n\\n**That's it! I hope this meets the expected criteria.**\", pydantic=None, json_dict=None, tasks_output=[TaskOutput(description='Conduct a comprehensive Study and ask questions on Azure AI modules.', name=None, expected_output='AI 102 Exam questions on Azure AI modules.', summary='Conduct a comprehensive Study and ask questions on Azure AI...', raw=\"**Azure AI Module Questions**\\n\\n1. What is Azure Cognitive Services?\\nYour answer should include the description of Azure Cognitive Services, its features, and benefits.\\n\\n2. How does Azure Machine Learning (AML) differ from traditional machine learning approaches?\\nYour answer should discuss the key differences between AML and traditional machine learning, including automation, scalability, and ease of use.\\n\\n3. What is Azure Form Recognizer?\\nProvide a detailed explanation of Azure Form Recognizer, its capabilities, and typical use cases.\\n\\n4. How does Azure Computer Vision enhance image analysis tasks?\\nDescribe the features and benefits of Azure Computer Vision for image analysis, including object detection, facial recognition, and image classification.\\n\\n5. What are some common applications of Azure Bot Service?\\nYour answer should highlight various industries or scenarios where Azure Bot Service can be used, such as customer service chatbots, virtual assistants, and more.\\n\\n6. How does Azure Natural Language Processing (NLP) improve text analysis capabilities?\\nDiscuss the features and benefits of Azure NLP for natural language processing, including sentiment analysis, entity recognition, and language translation.\\n\\n7. What is Azure Search, and how can it enhance search functionality in applications?\\nExplain the concept of Azure Search, its key features, and typical use cases, such as improving search results, filtering data, and more.\\n\\n8. How does Azure Text Analytics support natural language understanding (NLU) tasks?\\nDescribe the capabilities and benefits of Azure Text Analytics for NLU tasks, including sentiment analysis, named entity recognition, and text classification.\\n\\n9. What is Azure Speech Services, and how can it enhance speech-to-text functionality in applications?\\nExplain the features and benefits of Azure Speech Services for speech-to-text processing, including language support, audio formatting, and more.\\n\\n10. How does Azure Decision Framework (ADF) simplify decision-making processes?\\nDescribe the concept of ADF, its key features, and typical use cases, such as building decision-making models, predicting outcomes, and more.\\n\\n**That's it! I hope this meets the expected criteria.**\", pydantic=None, json_dict=None, agent='Local AI Expert', output_format=<OutputFormat.RAW: 'raw'>)], token_usage=UsageMetrics(total_tokens=0, prompt_tokens=0, cached_prompt_tokens=0, completion_tokens=0, successful_requests=0))"
      ]
     },
     "execution_count": 7,
     "metadata": {},
     "output_type": "execute_result"
    }
   ],
   "source": [
    "crew.kickoff()"
   ]
  },
  {
   "cell_type": "code",
   "execution_count": null,
   "metadata": {},
   "outputs": [],
   "source": []
  }
 ],
 "metadata": {
  "kernelspec": {
   "display_name": "torchenv",
   "language": "python",
   "name": "python3"
  },
  "language_info": {
   "codemirror_mode": {
    "name": "ipython",
    "version": 3
   },
   "file_extension": ".py",
   "mimetype": "text/x-python",
   "name": "python",
   "nbconvert_exporter": "python",
   "pygments_lexer": "ipython3",
   "version": "3.12.5"
  }
 },
 "nbformat": 4,
 "nbformat_minor": 2
}
