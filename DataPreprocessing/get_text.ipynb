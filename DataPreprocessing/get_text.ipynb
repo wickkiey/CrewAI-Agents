{
 "cells": [
  {
   "cell_type": "code",
   "execution_count": 5,
   "metadata": {},
   "outputs": [],
   "source": [
    "from markitdown import MarkItDown\n",
    "import os \n",
    "\n",
    "# md = MarkItDown()\n",
    "# result = md.convert(\"test.xlsx\")\n",
    "# print(result.text_content)"
   ]
  },
  {
   "cell_type": "code",
   "execution_count": 6,
   "metadata": {},
   "outputs": [],
   "source": [
    "source_path = \"data\"\n",
    "destination_path = \"output\""
   ]
  },
  {
   "cell_type": "code",
   "execution_count": 8,
   "metadata": {},
   "outputs": [],
   "source": [
    "files = os.listdir(source_path)"
   ]
  },
  {
   "cell_type": "code",
   "execution_count": 9,
   "metadata": {},
   "outputs": [],
   "source": [
    "for file in files:\n",
    "    md = MarkItDown()\n",
    "    result = md.convert(f\"{source_path}/{file}\")\n",
    "    with open(f\"{destination_path}/{file}.md\", \"w\") as f:\n",
    "        f.write(result.text_content)"
   ]
  },
  {
   "cell_type": "code",
   "execution_count": null,
   "metadata": {},
   "outputs": [],
   "source": [
    "from crewai import Task\n",
    "\n",
    "research_task = Task(\n",
    "    description=\"Conduct comprehensive research on the latest AI developments.\",\n",
    "    expected_output=\"A summary report highlighting key advancements in AI.\",\n",
    "    agent=researcher_agent,\n",
    "    tools=[search_tool],\n",
    "    async_execution=True\n",
    ")"
   ]
  }
 ],
 "metadata": {
  "kernelspec": {
   "display_name": "torchenv",
   "language": "python",
   "name": "python3"
  },
  "language_info": {
   "codemirror_mode": {
    "name": "ipython",
    "version": 3
   },
   "file_extension": ".py",
   "mimetype": "text/x-python",
   "name": "python",
   "nbconvert_exporter": "python",
   "pygments_lexer": "ipython3",
   "version": "3.12.5"
  }
 },
 "nbformat": 4,
 "nbformat_minor": 2
}
